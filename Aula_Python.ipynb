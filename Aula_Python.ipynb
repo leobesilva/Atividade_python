{
  "nbformat": 4,
  "nbformat_minor": 0,
  "metadata": {
    "colab": {
      "provenance": []
    },
    "kernelspec": {
      "name": "python3",
      "display_name": "Python 3"
    },
    "language_info": {
      "name": "python"
    }
  },
  "cells": [
    {
      "cell_type": "markdown",
      "source": [
        "# Atividade - Python"
      ],
      "metadata": {
        "id": "Temkc-R8KHw8"
      }
    },
    {
      "cell_type": "code",
      "source": [
        "#Receber numeros do usuario\n",
        "x = input(\"Digite o valor 1: \")\n",
        "print('Voce digitou ', x)\n",
        "\n",
        "y = input(\"Digite o valor 2: \")\n",
        "print('Voce digitou ', y)\n",
        "\n",
        "#converter numeros para inteiro\n",
        "\n",
        "x_conv = int(x)\n",
        "y_conv = int(y)\n",
        "\n",
        "print (type(x_conv))\n",
        "print (type(y_conv))"
      ],
      "metadata": {
        "colab": {
          "base_uri": "https://localhost:8080/"
        },
        "id": "-vPUUNCzKODn",
        "outputId": "48b743c0-162d-4cac-848f-65140c17918b"
      },
      "execution_count": 10,
      "outputs": [
        {
          "output_type": "stream",
          "name": "stdout",
          "text": [
            "Digite o valor 1: 3\n",
            "Voce digitou  3\n",
            "Digite o valor 2: 4\n",
            "Voce digitou  4\n",
            "<class 'int'>\n",
            "<class 'int'>\n"
          ]
        }
      ]
    },
    {
      "cell_type": "code",
      "source": [
        "#Operações Matematicas\n",
        "\n",
        "soma = x_conv + y_conv\n",
        "print('A soma de ', x_conv, ' e ', y_conv, ' é: ', soma)\n",
        "\n",
        "subtracao = x_conv - y_conv\n",
        "print('A subtração de ', x_conv, ' e ', y_conv, ' é: ', subtracao)\n",
        "\n",
        "multiplicacao = x_conv * y_conv\n",
        "print('A multiplicação de ', x_conv, ' e ', y_conv, ' é: ', multiplicacao)\n",
        "\n",
        "divisao = x_conv / y_conv\n",
        "print('A divisão de ', x_conv, ' e ', y_conv, ' é: ', divisao)"
      ],
      "metadata": {
        "colab": {
          "base_uri": "https://localhost:8080/"
        },
        "id": "NtobJ58NL4pE",
        "outputId": "23f4392d-816e-4f79-b193-be2001d91edb"
      },
      "execution_count": 13,
      "outputs": [
        {
          "output_type": "stream",
          "name": "stdout",
          "text": [
            "A soma de  3  e  4  é:  7\n",
            "A subtração de  3  e  4  é:  -1\n",
            "A multiplicação de  3  e  4  é:  12\n",
            "A divisão de  3  e  4  é:  0.75\n"
          ]
        }
      ]
    },
    {
      "cell_type": "code",
      "source": [
        "#Utilizando Condicionais para selecionar operação\n",
        "\n",
        "select = input('Selecione um numero de 1 a 4 onde, 1 - Soma, 2 - Subtração, 3 - Multiplicação e 4 - Divisão')\n",
        "select = int(select)\n",
        "\n",
        "if(select == 1):\n",
        "  print('voce escolheu a soma e o resultado é: ',soma)\n",
        "elif(select == 2):\n",
        "  print('voce escolheu a subtração e o resultado é: ',subtracao)\n",
        "elif(select == 3):\n",
        "  print('voce escolheu a multiplicação e o resultado é: ',multiplicacao)\n",
        "elif(select == 4):\n",
        "  print('voce escolheu a divisão e o resultado é: ',divisao)\n",
        "else:\n",
        "  print('voce digitou um valor invalido')\n",
        ""
      ],
      "metadata": {
        "id": "K6xVc76nN6s8"
      },
      "execution_count": null,
      "outputs": []
    }
  ]
}